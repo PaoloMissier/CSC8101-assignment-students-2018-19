{
 "cells": [
  {
   "cell_type": "markdown",
   "metadata": {},
   "source": [
    "# Betweenness Test\n",
    "Notebook used to test distributed implementation of betweenness"
   ]
  },
  {
   "cell_type": "code",
   "execution_count": 1,
   "metadata": {},
   "outputs": [],
   "source": [
    "### Initialisation"
   ]
  },
  {
   "cell_type": "code",
   "execution_count": 2,
   "metadata": {
    "collapsed": true
   },
   "outputs": [],
   "source": [
    "from pyspark.sql import SparkSession\n",
    "import os\n",
    "import sys\n",
    "\n",
    "SPARK_HOME=\"/home/human/l/rh/platform/spark-2.3.0-bin-hadoop2.7\"\n",
    "DATA = \"data/\"\n",
    "OUTPUT = DATA + \"out/\"\n",
    "\n",
    "## SparkSession is one main connection with the Spark driver\n",
    "session = SparkSession \\\n",
    "    .builder \\\n",
    "    .appName(\"Distributed-Community-Scanner\") \\\n",
    "    .config(\"spark.sql.autoBroadcastJoinThreshold\", '-1') \\\n",
    "    .config(\"spark.ui.enabled\", 'true')\\\n",
    "    .getOrCreate()\n",
    "\n",
    "sc = session.sparkContext"
   ]
  },
  {
   "cell_type": "code",
   "execution_count": 3,
   "metadata": {},
   "outputs": [],
   "source": [
    "# Add the parent project to the syspath to be able to import the modules\n",
    "# https://stackoverflow.com/questions/34478398/import-local-function-from-a-module-housed-in-another-directory-with-relative-im\n",
    "\n",
    "module_path = os.path.abspath(os.path.join('..'))\n",
    "if module_path not in sys.path:\n",
    "    sys.path.append(module_path)\n",
    "    \n",
    "# Import modules\n",
    "from inout.parser import parse\n",
    "from inout.parser import get_headers\n",
    "from view.visualiser import draw\n",
    "from algorithms.shortest_path import single_source_shortest_paths_dijkstra\n",
    "from distributed_algorithms.betweenness import compute_edge_betweenness"
   ]
  },
  {
   "cell_type": "code",
   "execution_count": 4,
   "metadata": {},
   "outputs": [
    {
     "data": {
      "text/plain": [
       "38"
      ]
     },
     "execution_count": 4,
     "metadata": {},
     "output_type": "execute_result"
    }
   ],
   "source": [
    "# edges_file = 'edges.csv'\n",
    "edges_limit = 100  # maximum numbers of edges to be parsed.\n",
    "edges_file = 'girvan_graph.csv'\n",
    "edges_path = os.path.join(DATA, edges_file)\n",
    "headers = get_headers(edges_path)\n",
    "source_header, target_header, weight_header = headers\n",
    "\n",
    "# Parse with edges limit:\n",
    "# graph = parse(edges_path, edge_limit=edges_limit, \n",
    "#               source_header=source_header, target_header=target_header, weight_header=weight_header)\n",
    "\n",
    "# Parse the entire graph (no 'edge_limit' parameter):\n",
    "graph_driver = parse(edges_path,  # edge_limit=edges_limit, \n",
    "              source_header=source_header, target_header=target_header, weight_header=weight_header)\n",
    "\n",
    "len(list(graph_driver.edges))"
   ]
  },
  {
   "cell_type": "code",
   "execution_count": 5,
   "metadata": {},
   "outputs": [
    {
     "name": "stderr",
     "output_type": "stream",
     "text": [
      "/home/human/l/_PGR_NCL/BigData/dev/community_scanner/venv/lib/python3.5/site-packages/networkx/drawing/nx_pylab.py:611: MatplotlibDeprecationWarning: isinstance(..., numbers.Number)\n  if cb.is_numlike(alpha):\n"
     ]
    },
    {
     "data": {
      "image/png": "[encoded data removed]",
      "text/plain": [
       "<Figure size 432x288 with 1 Axes>"
      ]
     },
     "metadata": {},
     "output_type": "display_data"
    }
   ],
   "source": [
    "draw(graph_driver)"
   ]
  },
  {
   "cell_type": "markdown",
   "metadata": {},
   "source": [
    "### Broadcast Graph and Algorithms to Workers"
   ]
  },
  {
   "cell_type": "code",
   "execution_count": 6,
   "metadata": {},
   "outputs": [],
   "source": [
    "# Add dependencies to workers\n",
    "dependencies_path = \"community_scanner.zip\"\n",
    "sc.addPyFile(dependencies_path)"
   ]
  },
  {
   "cell_type": "code",
   "execution_count": 7,
   "metadata": {},
   "outputs": [],
   "source": [
    "graphBC = sc.broadcast(graph_driver)"
   ]
  },
  {
   "cell_type": "code",
   "execution_count": 8,
   "metadata": {},
   "outputs": [],
   "source": [
    "def sssp(source):\n",
    "    \"\"\"\n",
    "    Single-Source Shortest path function for the Spark workers.\n",
    "    Prerrequisite: the 'algorithms' module needs to be added as dependency to all workers with sc.addPyFile  \n",
    "    :param source: \n",
    "    :return: \n",
    "    \"\"\"\n",
    "    from algorithms.shortest_path import single_source_shortest_paths_dijkstra\n",
    "    paths, distances = single_source_shortest_paths_dijkstra(graphBC.value, source=source)\n",
    "    return (source, paths)"
   ]
  },
  {
   "cell_type": "markdown",
   "metadata": {},
   "source": [
    "### Parallelise node IDs into RDDs"
   ]
  },
  {
   "cell_type": "code",
   "execution_count": 9,
   "metadata": {},
   "outputs": [
    {
     "data": {
      "text/plain": [
       "[1, 6, 8, 2, 3]"
      ]
     },
     "execution_count": 9,
     "metadata": {},
     "output_type": "execute_result"
    }
   ],
   "source": [
    "nodes_rdd = sc.parallelize(graph_driver.nodes) \n",
    "nodes_rdd.take(5)"
   ]
  },
  {
   "cell_type": "code",
   "execution_count": 10,
   "metadata": {},
   "outputs": [
    {
     "data": {
      "text/plain": [
       "8"
      ]
     },
     "execution_count": 10,
     "metadata": {},
     "output_type": "execute_result"
    }
   ],
   "source": [
    "nodes_rdd.getNumPartitions()"
   ]
  },
  {
   "cell_type": "code",
   "execution_count": 11,
   "metadata": {},
   "outputs": [
    {
     "data": {
      "text/plain": [
       "[2, 2, 4, 2, 2, 4, 2, 4]"
      ]
     },
     "execution_count": 11,
     "metadata": {},
     "output_type": "execute_result"
    }
   ],
   "source": [
    "# Get number of elements in each partition\n",
    "nodes_rdd.glom().map(len).collect()"
   ]
  },
  {
   "cell_type": "markdown",
   "metadata": {},
   "source": [
    "### Compute shortests paths in workers"
   ]
  },
  {
   "cell_type": "code",
   "execution_count": 12,
   "metadata": {},
   "outputs": [
    {
     "data": {
      "text/plain": [
       "[(1,\n  {1: [[1]],\n   2: [[1, 6, 2], [1, 8, 2]],\n   3: [[1, 6, 2, 3], [1, 8, 2, 3], [1, 6, 4, 3]],\n   4: [[1, 6, 4]],\n   5: [[1, 6, 2, 5], [1, 8, 2, 5], [1, 8, 7, 5]],\n   6: [[1, 6]],\n   7: [[1, 8, 7]],\n   8: [[1, 8]],\n   9: [[1, 6, 12, 10, 9]],\n   10: [[1, 6, 12, 10]],\n   11: [[1, 6, 12, 15, 11]],\n   12: [[1, 6, 12]],\n   13: [[1, 6, 12, 15, 11, 13], [1, 6, 12, 15, 14, 13]],\n   14: [[1, 6, 12, 15, 14]],\n   15: [[1, 6, 12, 15]],\n   16: [[1, 6, 12, 15, 16]],\n   17: [[1, 6, 2, 3, 21, 17],\n    [1, 8, 2, 3, 21, 17],\n    [1, 6, 4, 3, 21, 17],\n    [1, 6, 2, 5, 22, 17],\n    [1, 8, 2, 5, 22, 17],\n    [1, 8, 7, 5, 22, 17],\n    [1, 6, 12, 10, 18, 17],\n    [1, 6, 12, 15, 16, 17]],\n   18: [[1, 6, 12, 10, 18]],\n   19: [[1, 6, 2, 3, 21, 19],\n    [1, 8, 2, 3, 21, 19],\n    [1, 6, 4, 3, 21, 19],\n    [1, 6, 12, 10, 18, 19]],\n   20: [[1, 6, 12, 10, 18, 20]],\n   21: [[1, 6, 2, 3, 21], [1, 8, 2, 3, 21], [1, 6, 4, 3, 21]],\n   22: [[1, 6, 2, 5, 22], [1, 8, 2, 5, 22], [1, 8, 7, 5, 22]]})]"
      ]
     },
     "execution_count": 12,
     "metadata": {},
     "output_type": "execute_result"
    }
   ],
   "source": [
    "# shortest_paths_rdd := [(source, paths)]\n",
    "# paths := {target: [shortest_path]}\n",
    "# shortest_path := [node]\n",
    "\n",
    "shortest_paths_rdd = nodes_rdd.map(sssp)\n",
    "shortest_paths_rdd.cache()\n",
    "shortest_paths_rdd.take(1)"
   ]
  },
  {
   "cell_type": "markdown",
   "metadata": {},
   "source": [
    "### Compute Betweeness"
   ]
  },
  {
   "cell_type": "code",
   "execution_count": 13,
   "metadata": {},
   "outputs": [
    {
     "data": {
      "text/plain": [
       "[((2, 8), 69.9047619047619),\n ((6, 12), 191.4793650793651),\n ((11, 15), 106.36190476190477),\n ((5, 22), 135.8968253968254),\n ((13, 14), 45.63809523809524),\n ((21, 22), 30.0),\n ((5, 7), 74.24603174603175),\n ((2, 5), 65.06031746031745),\n ((4, 6), 50.53809523809524),\n ((9, 14), 27.685714285714287),\n ((17, 22), 48.560317460317464),\n ((14, 15), 108.1047619047619),\n ((1, 6), 83.84920634920634),\n ((2, 3), 63.03809523809524),\n ((16, 21), 70.36825396825398),\n ((18, 19), 45.33968253968254),\n ((11, 14), 8.0),\n ((16, 22), 89.33650793650793),\n ((17, 21), 43.58253968253968),\n ((16, 17), 30.109523809523807),\n ((9, 10), 73.53333333333335),\n ((17, 18), 38.042857142857144),\n ((10, 15), 42.96190476190476),\n ((2, 6), 90.22539682539684),\n ((12, 15), 119.3),\n ((1, 8), 40.84920634920635),\n ((16, 18), 48.62857142857142),\n ((2, 4), 18.0),\n ((18, 20), 41.19047619047619),\n ((10, 12), 92.17936507936507),\n ((3, 4), 42.53809523809524),\n ((15, 16), 178.29047619047617),\n ((7, 8), 33.86507936507936),\n ((11, 13), 38.36190476190476),\n ((19, 21), 54.292063492063484),\n ((10, 18), 113.2079365079365),\n ((3, 21), 120.62380952380954),\n ((17, 20), 42.80952380952381)]"
      ]
     },
     "execution_count": 13,
     "metadata": {},
     "output_type": "execute_result"
    }
   ],
   "source": [
    "edge_betweenness_rdd = compute_edge_betweenness(shortest_paths_rdd)\n",
    "edge_betweenness_rdd.cache()\n",
    "edge_betweenness_rdd.collect()"
   ]
  },
  {
   "cell_type": "code",
   "execution_count": 14,
   "metadata": {},
   "outputs": [],
   "source": [
    "assert edge_betweenness_rdd.count() == len(list(graph_driver.edges))"
   ]
  },
  {
   "cell_type": "markdown",
   "metadata": {},
   "source": []
  },
  {
   "cell_type": "code",
   "execution_count": 17,
   "metadata": {},
   "outputs": [
    {
     "data": {
      "text/plain": [
       "(6, 12)"
      ]
     },
     "execution_count": 17,
     "metadata": {},
     "output_type": "execute_result"
    }
   ],
   "source": [
    "edge_with_highest_betweenness = \\\n",
    "    edge_betweenness_rdd.max(lambda row: row[1])[0]\n",
    "\n",
    "edge_with_highest_betweenness"
   ]
  },
  {
   "cell_type": "code",
   "execution_count": null,
   "metadata": {},
   "outputs": [],
   "source": []
  }
 ],
 "metadata": {
  "kernelspec": {
   "display_name": "Python 2",
   "language": "python",
   "name": "python2"
  },
  "language_info": {
   "codemirror_mode": {
    "name": "ipython",
    "version": 2
   },
   "file_extension": ".py",
   "mimetype": "text/x-python",
   "name": "python",
   "nbconvert_exporter": "python",
   "pygments_lexer": "ipython2",
   "version": "2.7.6"
  }
 },
 "nbformat": 4,
 "nbformat_minor": 0
}
