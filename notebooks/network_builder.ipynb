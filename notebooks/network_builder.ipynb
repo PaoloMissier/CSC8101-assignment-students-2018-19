{
 "cells": [
  {
   "cell_type": "markdown",
   "metadata": {},
   "source": [
    "### Basic Analysis of MovieLens 1M\n",
    "\n",
    "#### Basic Stats\n",
    "\n",
    "Number of Users|Possible Edges|Existing Edges|Graph Density\n",
    "---|---|---|---\n",
    "6040|18,237,780|17,472,510|0.958\n",
    "\n",
    "![image.png](attachment:image.png)\n",
    "    - The KDE for the node coverage percentage: the percentage of the number of neighboring nodes to the number of total nodes given a random node.\n",
    "\n",
    "#### Data Generation\n",
    "\n",
    "We aim to generate an edge table where the first two columns record the composing nodes of an undirected edge, and the third column stores the weight. Each node in the edge table represents an user in the MovieLens dataset, and if there is an edge connecting two nodes, it means there is at least one movie which both users have rated. The weight of the edge is the reciprocal of the numbers of movies rated by both users. The logic of using reciprocal instead of the factual number is that as weight is measured as distance in our context, yet the number of movies rated by both users weakly represents the similarity in terms of the willingness of rating, similar users should have smaller distance between each other, thus the use of reciprocal as weight agrees with this logic.\n",
    "\n",
    "#### Sampling\n",
    "\n",
    "Considering the size of the original graph is fairly large (6040 nodes and 17472510 edges), I have coded a sampler to generate a small sample that is friendly to community detection algorithms. It can be used to test the correctness of a community detection algorithm given a MovieLens edge table.\n",
    "\n",
    "The sampler will randomly pick a root user node, and find a user defined number $x$ of its most similar neighboring nodes. Then the neighboring nodes will expend in the same fashion until a certain amount of total nodes have been met. The edges between silbing nodes and between a child node and its parents' silbing nodes are not allowed for clarity reason.\n",
    "\n",
    "A community detection experiment can be found in the CD_on_Samples notebook.\n",
    "    \n",
    "#### Files \n",
    "    \n",
    "- **edge_sample.csv**: The sampled dataset.\n",
    "- **edges.csv**: The edge table for the MovieLens 1M dataset.\n",
    "- **edges_spark.parquet**: The edge table for the MovieLens 1M dataset in spark parquet format."
   ]
  },
  {
   "cell_type": "code",
   "execution_count": null,
   "metadata": {},
   "outputs": [],
   "source": [
    "from pyspark.sql import SparkSession\n",
    "from itertools import combinations\n",
    "import numpy as np\n",
    "import pandas as pd\n",
    "import matplotlib.pyplot as plt\n",
    "import seaborn as sns\n",
    "\n",
    "%matplotlib inline\n",
    "spark = SparkSession.builder.appName(\"MoiveLens\").getOrCreate()"
   ]
  },
  {
   "cell_type": "code",
   "execution_count": 2,
   "metadata": {},
   "outputs": [],
   "source": [
    "rating_path = r\"./MovieLens1M/ratings.dat\"\n",
    "rating_df = pd.read_csv(rating_path, sep='::',\n",
    "                 names=[\"UserID\",\"MovieID\",\"Rating\",\"TimeStamp\"],\n",
    "                 header=None,\n",
    "                 encoding=\"utf-8\",\n",
    "                 engine='python')"
   ]
  },
  {
   "cell_type": "code",
   "execution_count": 3,
   "metadata": {},
   "outputs": [],
   "source": [
    "def agg_distinct_users(series):\n",
    "    users = series.tolist()\n",
    "    return set(users)"
   ]
  },
  {
   "cell_type": "code",
   "execution_count": 4,
   "metadata": {},
   "outputs": [
    {
     "name": "stdout",
     "output_type": "stream",
     "text": [
      "CPU times: user 1.6 s, sys: 343 ms, total: 1.94 s\n",
      "Wall time: 1.78 s\n"
     ]
    }
   ],
   "source": [
    "%%time\n",
    "users = rating_df.UserID.unique().tolist()\n",
    "comb = list(combinations(users, 2))\n",
    "groups = rating_df.groupby('MovieID').UserID.apply(agg_distinct_users)"
   ]
  },
  {
   "cell_type": "code",
   "execution_count": 5,
   "metadata": {},
   "outputs": [
    {
     "name": "stdout",
     "output_type": "stream",
     "text": [
      "CPU times: user 4.44 s, sys: 469 ms, total: 4.91 s\n",
      "Wall time: 4.92 s\n"
     ]
    }
   ],
   "source": [
    "%%time\n",
    "comb_dict = {key: 0 for key in comb}"
   ]
  },
  {
   "cell_type": "code",
   "execution_count": 6,
   "metadata": {},
   "outputs": [],
   "source": [
    "def populate_weights(comb_dict, groups):\n",
    "    for users in groups:\n",
    "        edges = list(combinations(users, 2))\n",
    "        for edge in edges:\n",
    "            if edge in comb_dict:\n",
    "                comb_dict[edge] += 1\n",
    "            elif (edge[1], edge[0]) in comb_dict:\n",
    "                comb_dict[(edge[1], edge[0])] += 1"
   ]
  },
  {
   "cell_type": "code",
   "execution_count": 7,
   "metadata": {},
   "outputs": [
    {
     "name": "stdout",
     "output_type": "stream",
     "text": [
      "CPU times: user 4min 5s, sys: 7.75 s, total: 4min 12s\n",
      "Wall time: 4min 13s\n"
     ]
    }
   ],
   "source": [
    "%%time\n",
    "populate_weights(comb_dict, groups)\n",
    "valid_edges = {k: v for k, v in comb_dict.items() if v != 0}"
   ]
  },
  {
   "cell_type": "code",
   "execution_count": 8,
   "metadata": {},
   "outputs": [
    {
     "name": "stdout",
     "output_type": "stream",
     "text": [
      "CPU times: user 14.3 s, sys: 2.53 s, total: 16.9 s\n",
      "Wall time: 16.2 s\n"
     ]
    }
   ],
   "source": [
    "%%time\n",
    "names = [\"V1\", \"V2\", \"Weight\"]\n",
    "\n",
    "ve_list = list(valid_edges.items())\n",
    "ve_list = [(i[0][0], i[0][1], i[1]) for i in ve_list]\n",
    "df = pd.DataFrame(ve_list, columns=names)\n",
    "df['Weight'] = df['Weight'].apply(lambda x: 1 / x)\n",
    "df = df.round(5)"
   ]
  },
  {
   "cell_type": "code",
   "execution_count": 9,
   "metadata": {},
   "outputs": [],
   "source": [
    "## Is there any isolated nodes?\n",
    "assert(len(users) == len(set(list(df['V1'].unique()) + list(df['V2'].unique()))))\n",
    "## Every node has at least one edge"
   ]
  },
  {
   "cell_type": "code",
   "execution_count": 10,
   "metadata": {},
   "outputs": [
    {
     "name": "stdout",
     "output_type": "stream",
     "text": [
      "CPU times: user 3.22 s, sys: 1.52 s, total: 4.74 s\n",
      "Wall time: 4.37 s\n"
     ]
    }
   ],
   "source": [
    "%%time\n",
    "df = df.sort_values(by=['V1', 'V2'])"
   ]
  },
  {
   "cell_type": "code",
   "execution_count": 11,
   "metadata": {},
   "outputs": [
    {
     "data": {
      "text/html": [
       "<div>\n",
       "<style scoped>\n",
       "    .dataframe tbody tr th:only-of-type {\n",
       "        vertical-align: middle;\n",
       "    }\n",
       "\n",
       "    .dataframe tbody tr th {\n",
       "        vertical-align: top;\n",
       "    }\n",
       "\n",
       "    .dataframe thead th {\n",
       "        text-align: right;\n",
       "    }\n",
       "</style>\n",
       "<table border=\"1\" class=\"dataframe\">\n",
       "  <thead>\n",
       "    <tr style=\"text-align: right;\">\n",
       "      <th></th>\n",
       "      <th>V1</th>\n",
       "      <th>V2</th>\n",
       "      <th>Weight</th>\n",
       "    </tr>\n",
       "  </thead>\n",
       "  <tbody>\n",
       "    <tr>\n",
       "      <th>0</th>\n",
       "      <td>1</td>\n",
       "      <td>2</td>\n",
       "      <td>0.14286</td>\n",
       "    </tr>\n",
       "    <tr>\n",
       "      <th>1</th>\n",
       "      <td>1</td>\n",
       "      <td>3</td>\n",
       "      <td>0.16667</td>\n",
       "    </tr>\n",
       "    <tr>\n",
       "      <th>2</th>\n",
       "      <td>1</td>\n",
       "      <td>4</td>\n",
       "      <td>0.25000</td>\n",
       "    </tr>\n",
       "    <tr>\n",
       "      <th>3</th>\n",
       "      <td>1</td>\n",
       "      <td>5</td>\n",
       "      <td>0.10000</td>\n",
       "    </tr>\n",
       "    <tr>\n",
       "      <th>4</th>\n",
       "      <td>1</td>\n",
       "      <td>6</td>\n",
       "      <td>0.10000</td>\n",
       "    </tr>\n",
       "    <tr>\n",
       "      <th>5</th>\n",
       "      <td>1</td>\n",
       "      <td>7</td>\n",
       "      <td>0.50000</td>\n",
       "    </tr>\n",
       "    <tr>\n",
       "      <th>6</th>\n",
       "      <td>1</td>\n",
       "      <td>8</td>\n",
       "      <td>0.10000</td>\n",
       "    </tr>\n",
       "    <tr>\n",
       "      <th>7</th>\n",
       "      <td>1</td>\n",
       "      <td>9</td>\n",
       "      <td>0.06667</td>\n",
       "    </tr>\n",
       "    <tr>\n",
       "      <th>8</th>\n",
       "      <td>1</td>\n",
       "      <td>10</td>\n",
       "      <td>0.02857</td>\n",
       "    </tr>\n",
       "    <tr>\n",
       "      <th>9</th>\n",
       "      <td>1</td>\n",
       "      <td>11</td>\n",
       "      <td>0.10000</td>\n",
       "    </tr>\n",
       "  </tbody>\n",
       "</table>\n",
       "</div>"
      ],
      "text/plain": [
       "   V1  V2   Weight\n",
       "0   1   2  0.14286\n",
       "1   1   3  0.16667\n",
       "2   1   4  0.25000\n",
       "3   1   5  0.10000\n",
       "4   1   6  0.10000\n",
       "5   1   7  0.50000\n",
       "6   1   8  0.10000\n",
       "7   1   9  0.06667\n",
       "8   1  10  0.02857\n",
       "9   1  11  0.10000"
      ]
     },
     "execution_count": 11,
     "metadata": {},
     "output_type": "execute_result"
    }
   ],
   "source": [
    "df.head(10)"
   ]
  },
  {
   "cell_type": "code",
   "execution_count": 12,
   "metadata": {},
   "outputs": [
    {
     "name": "stdout",
     "output_type": "stream",
     "text": [
      "CPU times: user 47.4 s, sys: 566 ms, total: 48 s\n",
      "Wall time: 48.2 s\n"
     ]
    }
   ],
   "source": [
    "%%time\n",
    "df.to_csv(\"./edges.csv\", index=False)"
   ]
  },
  {
   "cell_type": "code",
   "execution_count": 13,
   "metadata": {},
   "outputs": [
    {
     "name": "stdout",
     "output_type": "stream",
     "text": [
      "CPU times: user 2.52 ms, sys: 1.54 ms, total: 4.06 ms\n",
      "Wall time: 5.25 s\n"
     ]
    }
   ],
   "source": [
    "%%time \n",
    "spark_df = spark.read.csv(\"./edges.csv\", header=True)"
   ]
  },
  {
   "cell_type": "code",
   "execution_count": 14,
   "metadata": {},
   "outputs": [
    {
     "name": "stdout",
     "output_type": "stream",
     "text": [
      "CPU times: user 3.05 ms, sys: 3.22 ms, total: 6.27 ms\n",
      "Wall time: 16.6 s\n"
     ]
    }
   ],
   "source": [
    "%%time\n",
    "spark_df.write.parquet(\"./edges_spark.parquet\")"
   ]
  },
  {
   "cell_type": "code",
   "execution_count": 15,
   "metadata": {},
   "outputs": [
    {
     "name": "stdout",
     "output_type": "stream",
     "text": [
      "CPU times: user 7min 30s, sys: 50 s, total: 8min 20s\n",
      "Wall time: 4min 13s\n"
     ]
    }
   ],
   "source": [
    "%%time\n",
    "total_nodes = len(users) \n",
    "coverage_list = list()\n",
    "for i in range(1, total_nodes + 1):\n",
    "      coverage_list.append((i, df.loc[(df['V1'] == i) | (df['V2'] == i)].shape[0] / total_nodes))"
   ]
  },
  {
   "cell_type": "code",
   "execution_count": 16,
   "metadata": {},
   "outputs": [
    {
     "name": "stdout",
     "output_type": "stream",
     "text": [
      "#Avg Vertex Degree:0.957880685057673\n",
      "#Graph Density:0.958039300835957\n"
     ]
    }
   ],
   "source": [
    "np_clist = np.array([i[1] for i in coverage_list])\n",
    "# Avg vertex degree \n",
    "print(f\"#Avg Vertex Degree:{np_clist.sum() / len(users)}\")\n",
    "# The graph density\n",
    "density = 2 * df.shape[0] / (len(users) * (len(users) - 1))\n",
    "print(f\"#Graph Density:{density}\")"
   ]
  },
  {
   "cell_type": "code",
   "execution_count": 17,
   "metadata": {},
   "outputs": [
    {
     "data": {
      "text/plain": [
       "[]"
      ]
     },
     "execution_count": 17,
     "metadata": {},
     "output_type": "execute_result"
    },
    {
     "data": {
      "image/png": "[encoded data removed]",
      "text/plain": [
       "<Figure size 432x288 with 1 Axes>"
      ]
     },
     "metadata": {},
     "output_type": "display_data"
    }
   ],
   "source": [
    "plt.style.use('ggplot')\n",
    "ax = sns.distplot(np_clist, hist=False)\n",
    "ax.set(xlabel=\"Percentage of Coverage of a Node\", ylabel=\"Density\")\n",
    "ax.plot()"
   ]
  },
  {
   "cell_type": "code",
   "execution_count": 18,
   "metadata": {},
   "outputs": [],
   "source": [
    "def sample_neighbors(node, df, size, ss):\n",
    "    temp = df.loc[(df['V1'] == node) | (df['V2'] == node)]\n",
    "    # Select the top quarter\n",
    "    temp = temp.loc[temp['Weight'] < temp.Weight.mean()]\n",
    "#     temp = temp.loc[temp['Weight'] < temp.Weight.mean()] #For a tighter weight constraint\n",
    "    \n",
    "    while(True):\n",
    "        temp = temp.sample(size)\n",
    "        neighbors = [i for i in list(temp.V1) + list(temp.V2) if i != node]\n",
    "        \n",
    "        resample = False\n",
    "        for ne in neighbors:\n",
    "            if ne in ss:\n",
    "                resample = True\n",
    "                size = size -1\n",
    "        \n",
    "        if (not resample) or (size == 0):\n",
    "            break\n",
    "    \n",
    "    ne_edges = [(row['V1'], row['V2'], row['Weight']) for _,row in temp.iterrows()]\n",
    "    \n",
    "    return (neighbors, ne_edges)"
   ]
  },
  {
   "cell_type": "code",
   "execution_count": 19,
   "metadata": {},
   "outputs": [],
   "source": [
    "def create_community(ss, df, root, counter):\n",
    "    cons_nodes = list()\n",
    "    ne, ne_edges = sample_neighbors(root, df, 5, ss)\n",
    "    cons_nodes = [root] + ne.copy()\n",
    "    cons_edges = ne_edges.copy()\n",
    "    new_nodes = ne.copy()\n",
    "\n",
    "    while(len(cons_nodes) <= 100):\n",
    "        exh_nodes = new_nodes.copy()\n",
    "        new_nodes = list()\n",
    "        for node in exh_nodes:\n",
    "            ne, ne_edges = sample_neighbors(node, df, 5, cons_nodes)\n",
    "            cons_nodes = cons_nodes.copy() + ne.copy()\n",
    "            cons_edges = cons_edges.copy() + ne_edges.copy()\n",
    "            new_nodes = new_nodes.copy() + ne.copy()\n",
    "\n",
    "    print(f\"#Nodes={len(cons_nodes)} | Unique Nodes={len(set(cons_nodes))}\")\n",
    "\n",
    "    # Find Edge Between Silbings\n",
    "    for x,y,z in cons_edges:\n",
    "        find_same = 0\n",
    "        for edge in cons_edges:\n",
    "            if (x,y) == edge:\n",
    "                find_same += 1\n",
    "            if (y,x) == edge:\n",
    "                find_same += 1\n",
    "        if find_same == 2:\n",
    "            cons_edges.remove(edge)  \n",
    "\n",
    "    print(f\"#Edges:{len(cons_edges)} | Unique Edges:{len(set(cons_edges))}\") \n",
    "    \n",
    "    return (cons_nodes, cons_edges)"
   ]
  },
  {
   "cell_type": "code",
   "execution_count": 20,
   "metadata": {},
   "outputs": [],
   "source": [
    "def create_border(nodes, edges, border):\n",
    "    root = np.random.choice(nodes, 1)[0]\n",
    "    temp = list()\n",
    "    for x,y,z in edges:\n",
    "        if (x == root) or (y == root):\n",
    "            temp.append((x,y,z))\n",
    "    if len(temp) != 1:\n",
    "        best_id = 0\n",
    "        best = temp[0][2]\n",
    "        for i,x in enumerate(temp):\n",
    "            if best >= x[2]:\n",
    "                best = x[2]\n",
    "                best_id = i\n",
    "        border.append(temp[best_id])\n",
    "    elif len(temp) == 1:\n",
    "        border.append(temp[0])\n",
    "    return root"
   ]
  },
  {
   "cell_type": "code",
   "execution_count": 21,
   "metadata": {},
   "outputs": [],
   "source": [
    "def create_communities(users, df, size=2):\n",
    "    assert(size>=1)\n",
    "    \n",
    "    final_edges = list()\n",
    "    border = list()\n",
    "    counter = 1\n",
    "    \n",
    "    print(f\"#Start creating Community {counter}\")\n",
    "    ss = list(range(1, len(users) + 1))\n",
    "    root = np.random.choice(ss, 1)[0]\n",
    "    nodes, edges = create_community(list([root]), df, root, 1)\n",
    "    root = create_border(nodes, edges, border)\n",
    "    final_edges = final_edges.copy() + edges.copy()\n",
    "\n",
    "    for counter in range(2, size + 1):\n",
    "        print(f\"#Start creating Community {counter}\")\n",
    "        nodes, edges = create_community(nodes, df, root, counter)\n",
    "        root = create_border(nodes, edges, border)\n",
    "        final_edges = final_edges.copy() + edges.copy()\n",
    "\n",
    "    return (final_edges, border)"
   ]
  },
  {
   "cell_type": "code",
   "execution_count": 22,
   "metadata": {},
   "outputs": [
    {
     "name": "stdout",
     "output_type": "stream",
     "text": [
      "#Start creating Community 1\n",
      "#Nodes=144 | Unique Nodes=141\n",
      "#Edges:143 | Unique Edges:143\n"
     ]
    }
   ],
   "source": [
    "edges, border = create_communities(users, df, 1)"
   ]
  },
  {
   "cell_type": "code",
   "execution_count": 23,
   "metadata": {},
   "outputs": [],
   "source": [
    "sample_df = pd.DataFrame(edges, columns=names)\n",
    "sample_df = sample_df.astype({'V1':int, 'V2':int}).round(5)\n",
    "sample_df = sample_df.sort_values(['V1', 'V2'])\n",
    "sample_df.to_csv(\"./edge_sample.csv\", index=False, header=True)"
   ]
  }
 ],
 "metadata": {
  "kernelspec": {
   "display_name": "Python 3",
   "language": "python",
   "name": "python3"
  },
  "language_info": {
   "codemirror_mode": {
    "name": "ipython",
    "version": 3
   },
   "file_extension": ".py",
   "mimetype": "text/x-python",
   "name": "python",
   "nbconvert_exporter": "python",
   "pygments_lexer": "ipython3",
   "version": "3.6.7"
  }
 },
 "nbformat": 4,
 "nbformat_minor": 2
}
